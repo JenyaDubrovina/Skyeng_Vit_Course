{
 "cells": [
  {
   "cell_type": "markdown",
   "id": "7e1a4048",
   "metadata": {},
   "source": [
    "### Задача:"
   ]
  },
  {
   "cell_type": "markdown",
   "id": "9002f12d",
   "metadata": {},
   "source": [
    "На основе данных узнать, можно ли использовать для стат.оценки критерий Стьюдента.     \n",
    "Метрика – ARPU    \n",
    "В процессе решения задачи необходимо ответить на следующие вопросы:     \n",
    "1) Как распределена t статистика при верности нулевой гипотезы   \n",
    "2) Как распределен pValue при верности нулевой гипотезы     \n",
    "3) Как распределена разница средних  "
   ]
  },
  {
   "cell_type": "markdown",
   "id": "6c1dab86",
   "metadata": {},
   "source": [
    "Ответы:      \n",
    "1) Симметрично   \n",
    "2) Равномерно   \n",
    "3) Нормально"
   ]
  },
  {
   "cell_type": "code",
   "execution_count": 1,
   "id": "f844d4a4",
   "metadata": {},
   "outputs": [],
   "source": [
    "import pandas as pd\n",
    "import numpy as np\n",
    "# виз\n",
    "from tqdm import tqdm  \n",
    "from time import sleep \n",
    "import matplotlib.pyplot as plt\n",
    "# стат\n",
    "from scipy.stats import norm\n",
    "from scipy import stats"
   ]
  },
  {
   "cell_type": "code",
   "execution_count": 2,
   "id": "ab690e40",
   "metadata": {},
   "outputs": [],
   "source": [
    "df = pd.read_csv('skyeng_day2.csv') "
   ]
  },
  {
   "cell_type": "code",
   "execution_count": 3,
   "id": "cdf0c55e",
   "metadata": {},
   "outputs": [
    {
     "data": {
      "text/html": [
       "<div>\n",
       "<style scoped>\n",
       "    .dataframe tbody tr th:only-of-type {\n",
       "        vertical-align: middle;\n",
       "    }\n",
       "\n",
       "    .dataframe tbody tr th {\n",
       "        vertical-align: top;\n",
       "    }\n",
       "\n",
       "    .dataframe thead th {\n",
       "        text-align: right;\n",
       "    }\n",
       "</style>\n",
       "<table border=\"1\" class=\"dataframe\">\n",
       "  <thead>\n",
       "    <tr style=\"text-align: right;\">\n",
       "      <th></th>\n",
       "      <th>user</th>\n",
       "      <th>check</th>\n",
       "    </tr>\n",
       "  </thead>\n",
       "  <tbody>\n",
       "    <tr>\n",
       "      <th>0</th>\n",
       "      <td>67499.158175</td>\n",
       "      <td>0.0</td>\n",
       "    </tr>\n",
       "    <tr>\n",
       "      <th>1</th>\n",
       "      <td>83340.158176</td>\n",
       "      <td>0.0</td>\n",
       "    </tr>\n",
       "    <tr>\n",
       "      <th>2</th>\n",
       "      <td>85529.158172</td>\n",
       "      <td>0.0</td>\n",
       "    </tr>\n",
       "    <tr>\n",
       "      <th>3</th>\n",
       "      <td>197806.157903</td>\n",
       "      <td>0.0</td>\n",
       "    </tr>\n",
       "    <tr>\n",
       "      <th>4</th>\n",
       "      <td>221230.158178</td>\n",
       "      <td>0.0</td>\n",
       "    </tr>\n",
       "  </tbody>\n",
       "</table>\n",
       "</div>"
      ],
      "text/plain": [
       "            user  check\n",
       "0   67499.158175    0.0\n",
       "1   83340.158176    0.0\n",
       "2   85529.158172    0.0\n",
       "3  197806.157903    0.0\n",
       "4  221230.158178    0.0"
      ]
     },
     "execution_count": 3,
     "metadata": {},
     "output_type": "execute_result"
    }
   ],
   "source": [
    "df.head()"
   ]
  },
  {
   "cell_type": "code",
   "execution_count": 4,
   "id": "ac9b7c34",
   "metadata": {},
   "outputs": [],
   "source": [
    "# первая половина выборки\n",
    "data_column_1 = df.sample(frac = 0.5)\n",
    " \n",
    "# вторая половина выборки\n",
    "data_column_2 = df.drop(data_column_1.index)"
   ]
  },
  {
   "cell_type": "markdown",
   "id": "1562b524",
   "metadata": {},
   "source": [
    "### Распределение разницы средних"
   ]
  },
  {
   "cell_type": "code",
   "execution_count": 5,
   "id": "43ca295b",
   "metadata": {},
   "outputs": [],
   "source": [
    "def get_bootstrap(\n",
    "    data_column_1, # числовые значения первой выборки\n",
    "    data_column_2, # числовые значения второй выборки\n",
    "    boot_it = 1000, # количество бутстрэп-подвыборок\n",
    "    statistic = np.mean, # интересующая нас статистика\n",
    "    bootstrap_conf_level = 0.95 # уровень значимости\n",
    "):\n",
    "\n",
    "    boot_data = []\n",
    "    for i in tqdm(range(boot_it)): # извлекаем подвыборки\n",
    "        samples_1 = data_column_1.sample(\n",
    "            len(data_column_1), \n",
    "            replace = True # параметр возвращения\n",
    "        ).values\n",
    "        \n",
    "        samples_2 = data_column_2.sample(\n",
    "            len(data_column_2), \n",
    "            replace = True\n",
    "        ).values\n",
    "        \n",
    "        boot_data.append(statistic(samples_1)-statistic(samples_2)) # mean() - применяем статистику\n",
    "        \n",
    "    pd_boot_data = pd.DataFrame(boot_data)\n",
    "        \n",
    "    left_quant = (1 - bootstrap_conf_level)/2\n",
    "    right_quant = 1 - (1 - bootstrap_conf_level) / 2\n",
    "    ci = pd_boot_data.quantile([left_quant, right_quant])\n",
    "        \n",
    "    p_1 = norm.cdf(\n",
    "        x = 0, \n",
    "        loc = np.mean(boot_data), \n",
    "        scale = np.std(boot_data)\n",
    "    )\n",
    "    p_2 = norm.cdf(\n",
    "        x = 0, \n",
    "        loc = -np.mean(boot_data), \n",
    "        scale = np.std(boot_data)\n",
    "    )\n",
    "    p_value = min(p_1, p_2) * 2\n",
    "        \n",
    "    # Визуализация\n",
    "    plt.hist(pd_boot_data[0], bins = 50)\n",
    "    \n",
    "    plt.style.use('ggplot')\n",
    "    plt.vlines(ci,ymin=0,ymax=50,linestyle='--')\n",
    "    plt.xlabel('boot_data')\n",
    "    plt.ylabel('frequency')\n",
    "    plt.title(\"Histogram of boot_data\")\n",
    "    plt.show()\n",
    "       \n",
    "    return {#\"boot_data\": boot_data, закомментировано, чтобы не перегружать виз\n",
    "            \"ci\": ci, \n",
    "            \"p_value\": p_value}"
   ]
  },
  {
   "cell_type": "code",
   "execution_count": 6,
   "id": "345f9eb9",
   "metadata": {},
   "outputs": [
    {
     "name": "stderr",
     "output_type": "stream",
     "text": [
      "100%|█████████████████████████████████████████████████████████████████████████████| 1000/1000 [00:01<00:00, 755.01it/s]\n"
     ]
    },
    {
     "data": {
      "image/png": "[encoded data removed]",
      "text/plain": [
       "<Figure size 432x288 with 1 Axes>"
      ]
     },
     "metadata": {
      "needs_background": "light"
     },
     "output_type": "display_data"
    },
    {
     "data": {
      "text/plain": [
       "{'ci':                   0\n",
       " 0.025  4.726998e+04\n",
       " 0.975  1.051910e+07,\n",
       " 'p_value': 0.058225539052463755}"
      ]
     },
     "execution_count": 6,
     "metadata": {},
     "output_type": "execute_result"
    }
   ],
   "source": [
    "get_bootstrap(data_column_1, data_column_2, boot_it = 1000, statistic = np.mean, bootstrap_conf_level = 0.95)"
   ]
  },
  {
   "cell_type": "markdown",
   "id": "90018fbe",
   "metadata": {},
   "source": [
    "### Распределение pValue, t статистики и fpr (на рандоме exponential)"
   ]
  },
  {
   "cell_type": "code",
   "execution_count": 7,
   "id": "05cb591c",
   "metadata": {},
   "outputs": [
    {
     "name": "stderr",
     "output_type": "stream",
     "text": [
      "100%|█████████████████████████████████████████████████████████████████████████████| 1000/1000 [00:04<00:00, 222.22it/s]\n"
     ]
    },
    {
     "data": {
      "image/png": "[encoded data removed]",
      "text/plain": [
       "<Figure size 432x288 with 1 Axes>"
      ]
     },
     "metadata": {},
     "output_type": "display_data"
    }
   ],
   "source": [
    "n = 100000\n",
    "simulations = 1000\n",
    "n_s = 1000\n",
    "res = []\n",
    "\n",
    "df = pd.DataFrame({\n",
    "    \"s1\": np.random.exponential(scale=1/0.001, size=n),\n",
    "    \"s2\": np.random.exponential(scale=1/0.001, size=n)\n",
    "})\n",
    "\n",
    "\n",
    "# Запуск симуляций A/A теста\n",
    "for i in tqdm(range(simulations)):\n",
    "    s1 = df['s1'].sample(n_s, replace = False).values\n",
    "    s2 = df['s2'].sample(n_s, replace = False).values\n",
    "    res.append(stats.ttest_ind(s1, s2, equal_var = False)[1]) # сохраняем pvalue\n",
    "\n",
    "plt.hist(res, bins = 50)\n",
    "plt.style.use('ggplot')\n",
    "plt.xlabel('pvalues')\n",
    "plt.ylabel('frequency')\n",
    "plt.title(\"Histogram of ttest A/A simulations \")\n",
    "plt.show()"
   ]
  },
  {
   "cell_type": "code",
   "execution_count": 8,
   "id": "2e8a08ca",
   "metadata": {},
   "outputs": [
    {
     "data": {
      "text/plain": [
       "0.053"
      ]
     },
     "execution_count": 8,
     "metadata": {},
     "output_type": "execute_result"
    }
   ],
   "source": [
    "# Проверяем, что количество ложноположительных случаев не превышает альфа\n",
    "sum(np.array(res) <0.05) / simulations"
   ]
  },
  {
   "cell_type": "code",
   "execution_count": 9,
   "id": "342f6be1",
   "metadata": {},
   "outputs": [
    {
     "data": {
      "text/plain": [
       "0.013"
      ]
     },
     "execution_count": 9,
     "metadata": {},
     "output_type": "execute_result"
    }
   ],
   "source": [
    "sum(np.array(res) <0.01) / simulations"
   ]
  },
  {
   "cell_type": "code",
   "execution_count": 10,
   "id": "63dd3795",
   "metadata": {},
   "outputs": [
    {
     "data": {
      "text/plain": [
       "0.101"
      ]
     },
     "execution_count": 10,
     "metadata": {},
     "output_type": "execute_result"
    }
   ],
   "source": [
    "sum(np.array(res) <0.1) / simulations"
   ]
  },
  {
   "cell_type": "code",
   "execution_count": 11,
   "id": "363972ca",
   "metadata": {},
   "outputs": [
    {
     "name": "stderr",
     "output_type": "stream",
     "text": [
      "100%|█████████████████████████████████████████████████████████████████████████████| 1000/1000 [00:04<00:00, 245.91it/s]\n"
     ]
    },
    {
     "data": {
      "image/png": "[encoded data removed]",
      "text/plain": [
       "<Figure size 432x288 with 1 Axes>"
      ]
     },
     "metadata": {},
     "output_type": "display_data"
    }
   ],
   "source": [
    "# Запуск симуляций A/A теста\n",
    "# Распределение t статистики\n",
    "n = 100000\n",
    "simulations = 1000\n",
    "n_s = 1000\n",
    "res = []\n",
    "\n",
    "for i in tqdm(range(simulations)):\n",
    "    s1 = df['s1'].sample(n_s, replace = False).values\n",
    "    s2 = df['s2'].sample(n_s, replace = False).values\n",
    "    res.append(stats.ttest_ind(s1, s2, equal_var = False)[0]) # сохраняем t-статистику\n",
    "\n",
    "plt.hist(res, bins = 50)\n",
    "plt.style.use('ggplot')\n",
    "plt.xlabel('t-statistic')\n",
    "plt.ylabel('frequency')\n",
    "plt.title(\"Histogram of ttest A/A simulations \")\n",
    "plt.show()"
   ]
  },
  {
   "cell_type": "markdown",
   "id": "11993fae",
   "metadata": {},
   "source": [
    "### Распределение pValue, t статистики и fpr (на заданном датасорсе)"
   ]
  },
  {
   "cell_type": "code",
   "execution_count": 12,
   "id": "6863b8d0",
   "metadata": {},
   "outputs": [
    {
     "name": "stderr",
     "output_type": "stream",
     "text": [
      "100%|█████████████████████████████████████████████████████████████████████████████| 1000/1000 [00:01<00:00, 674.29it/s]\n"
     ]
    },
    {
     "data": {
      "image/png": "[encoded data removed]",
      "text/plain": [
       "<Figure size 432x288 with 1 Axes>"
      ]
     },
     "metadata": {},
     "output_type": "display_data"
    }
   ],
   "source": [
    "n = 100000\n",
    "simulations = 1000\n",
    "n_s = 1000\n",
    "res = []\n",
    "\n",
    "# Запуск симуляций A/A теста\n",
    "# Распределение pValue\n",
    "for i in tqdm(range(simulations)):\n",
    "    s1 = data_column_1['check'].sample(n_s, replace = False).values\n",
    "    s2 = data_column_2['check'].sample(n_s, replace = False).values\n",
    "    res.append(stats.ttest_ind(s1, s2, equal_var = False)[1]) # сохраняем pvalue\n",
    "\n",
    "plt.hist(res, bins = 50)\n",
    "plt.style.use('ggplot')\n",
    "plt.xlabel('pvalues')\n",
    "plt.ylabel('frequency')\n",
    "plt.title(\"Histogram of ttest A/A simulations \")\n",
    "plt.show()"
   ]
  },
  {
   "cell_type": "code",
   "execution_count": 13,
   "id": "11b0f189",
   "metadata": {},
   "outputs": [
    {
     "data": {
      "text/plain": [
       "0.056"
      ]
     },
     "execution_count": 13,
     "metadata": {},
     "output_type": "execute_result"
    }
   ],
   "source": [
    "# Проверяем, что количество ложноположительных случаев не превышает альфа\n",
    "sum(np.array(res) <0.05) / simulations"
   ]
  },
  {
   "cell_type": "code",
   "execution_count": 14,
   "id": "78c13f78",
   "metadata": {},
   "outputs": [
    {
     "data": {
      "text/plain": [
       "0.01"
      ]
     },
     "execution_count": 14,
     "metadata": {},
     "output_type": "execute_result"
    }
   ],
   "source": [
    "sum(np.array(res) <0.01) / simulations"
   ]
  },
  {
   "cell_type": "code",
   "execution_count": 15,
   "id": "5657f71e",
   "metadata": {},
   "outputs": [
    {
     "data": {
      "text/plain": [
       "0.098"
      ]
     },
     "execution_count": 15,
     "metadata": {},
     "output_type": "execute_result"
    }
   ],
   "source": [
    "sum(np.array(res) <0.1) / simulations"
   ]
  },
  {
   "cell_type": "code",
   "execution_count": 16,
   "id": "3807f94a",
   "metadata": {},
   "outputs": [
    {
     "name": "stderr",
     "output_type": "stream",
     "text": [
      "100%|█████████████████████████████████████████████████████████████████████████████| 1000/1000 [00:01<00:00, 699.22it/s]\n"
     ]
    },
    {
     "data": {
      "image/png": "[encoded data removed]",
      "text/plain": [
       "<Figure size 432x288 with 1 Axes>"
      ]
     },
     "metadata": {},
     "output_type": "display_data"
    }
   ],
   "source": [
    "# Запуск симуляций A/A теста\n",
    "# Распределение t статистики\n",
    "n = 100000\n",
    "simulations = 1000\n",
    "n_s = 1000\n",
    "res = []\n",
    "\n",
    "for i in tqdm(range(simulations)):\n",
    "    s1 = data_column_1['check'].sample(n_s, replace = False).values\n",
    "    s2 = data_column_2['check'].sample(n_s, replace = False).values\n",
    "    res.append(stats.ttest_ind(s1, s2, equal_var = False)[0]) # сохраняем t-статистику\n",
    "\n",
    "plt.hist(res, bins = 50)\n",
    "plt.style.use('ggplot')\n",
    "plt.xlabel('t-statistic')\n",
    "plt.ylabel('frequency')\n",
    "plt.title(\"Histogram of ttest A/A simulations \")\n",
    "plt.show()"
   ]
  }
 ],
 "metadata": {
  "kernelspec": {
   "display_name": "Python 3",
   "language": "python",
   "name": "python3"
  },
  "language_info": {
   "codemirror_mode": {
    "name": "ipython",
    "version": 3
   },
   "file_extension": ".py",
   "mimetype": "text/x-python",
   "name": "python",
   "nbconvert_exporter": "python",
   "pygments_lexer": "ipython3",
   "version": "3.8.8"
  }
 },
 "nbformat": 4,
 "nbformat_minor": 5
}
